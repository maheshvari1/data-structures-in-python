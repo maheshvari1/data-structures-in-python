{
 "cells": [
  {
   "cell_type": "markdown",
   "id": "92688ba4",
   "metadata": {},
   "source": [
    "Dynamic Array\n",
    "\n",
    "1. Create List [D]\n",
    "2. len \n",
    "3. append\n",
    "4. print\n",
    "5. indexing\n",
    "6. pop\n",
    "7. clear\n",
    "8. find\n",
    "9. insert\n",
    "10. delete\n",
    "11. remove\n",
    "\n",
    "sort/min/max/sum\n",
    "extend\n",
    "negative indexing\n",
    "slicing\n",
    "merge\n",
    "\n",
    "\n"
   ]
  },
  {
   "cell_type": "code",
   "execution_count": 3,
   "id": "bc84474a",
   "metadata": {},
   "outputs": [],
   "source": [
    "import sys"
   ]
  },
  {
   "cell_type": "code",
   "execution_count": 4,
   "id": "a944aba8",
   "metadata": {},
   "outputs": [
    {
     "data": {
      "text/plain": [
       "56"
      ]
     },
     "execution_count": 4,
     "metadata": {},
     "output_type": "execute_result"
    }
   ],
   "source": [
    "l=[]\n",
    "sys.getsizeof(l)\n"
   ]
  },
  {
   "cell_type": "code",
   "execution_count": 5,
   "id": "ff718376",
   "metadata": {},
   "outputs": [],
   "source": [
    "#l.append('mahi')"
   ]
  },
  {
   "cell_type": "code",
   "execution_count": 6,
   "id": "841803ef",
   "metadata": {},
   "outputs": [
    {
     "data": {
      "text/plain": [
       "[]"
      ]
     },
     "execution_count": 6,
     "metadata": {},
     "output_type": "execute_result"
    }
   ],
   "source": [
    "l"
   ]
  },
  {
   "cell_type": "code",
   "execution_count": 7,
   "id": "5c104909",
   "metadata": {},
   "outputs": [
    {
     "data": {
      "text/plain": [
       "56"
      ]
     },
     "execution_count": 7,
     "metadata": {},
     "output_type": "execute_result"
    }
   ],
   "source": [
    "sys.getsizeof(l)"
   ]
  },
  {
   "cell_type": "code",
   "execution_count": 8,
   "id": "147d375d",
   "metadata": {},
   "outputs": [],
   "source": [
    "l.append('Hellooo')"
   ]
  },
  {
   "cell_type": "code",
   "execution_count": 9,
   "id": "4adadffb",
   "metadata": {},
   "outputs": [
    {
     "data": {
      "text/plain": [
       "88"
      ]
     },
     "execution_count": 9,
     "metadata": {},
     "output_type": "execute_result"
    }
   ],
   "source": [
    "sys.getsizeof(l)"
   ]
  },
  {
   "cell_type": "code",
   "execution_count": 10,
   "id": "9a998825",
   "metadata": {},
   "outputs": [],
   "source": [
    "l.append(1)"
   ]
  },
  {
   "cell_type": "code",
   "execution_count": 11,
   "id": "bb03a7f5",
   "metadata": {},
   "outputs": [
    {
     "data": {
      "text/plain": [
       "88"
      ]
     },
     "execution_count": 11,
     "metadata": {},
     "output_type": "execute_result"
    }
   ],
   "source": [
    "sys.getsizeof(l)\n"
   ]
  },
  {
   "cell_type": "code",
   "execution_count": 12,
   "id": "1704d111",
   "metadata": {},
   "outputs": [
    {
     "data": {
      "text/plain": [
       "88"
      ]
     },
     "execution_count": 12,
     "metadata": {},
     "output_type": "execute_result"
    }
   ],
   "source": [
    "l.append(2)\n",
    "sys.getsizeof(l)"
   ]
  },
  {
   "cell_type": "code",
   "execution_count": 13,
   "id": "a5ac43c5",
   "metadata": {},
   "outputs": [
    {
     "data": {
      "text/plain": [
       "88"
      ]
     },
     "execution_count": 13,
     "metadata": {},
     "output_type": "execute_result"
    }
   ],
   "source": [
    "l.append(3)\n",
    "sys.getsizeof(l)"
   ]
  },
  {
   "cell_type": "code",
   "execution_count": 14,
   "id": "d7e31189",
   "metadata": {},
   "outputs": [
    {
     "data": {
      "text/plain": [
       "120"
      ]
     },
     "execution_count": 14,
     "metadata": {},
     "output_type": "execute_result"
    }
   ],
   "source": [
    "l.append(9)\n",
    "sys.getsizeof(l)"
   ]
  },
  {
   "cell_type": "code",
   "execution_count": 15,
   "id": "abc84e16",
   "metadata": {},
   "outputs": [
    {
     "data": {
      "text/plain": [
       "['Hellooo', 1, 2, 3, 9]"
      ]
     },
     "execution_count": 15,
     "metadata": {},
     "output_type": "execute_result"
    }
   ],
   "source": [
    "l"
   ]
  },
  {
   "cell_type": "code",
   "execution_count": 16,
   "id": "27098795",
   "metadata": {},
   "outputs": [
    {
     "name": "stdout",
     "output_type": "stream",
     "text": [
      "0 56\n",
      "1 88\n",
      "2 88\n",
      "3 88\n",
      "4 88\n",
      "5 120\n",
      "6 120\n",
      "7 120\n",
      "8 120\n",
      "9 184\n",
      "10 184\n",
      "11 184\n",
      "12 184\n",
      "13 184\n",
      "14 184\n",
      "15 184\n",
      "16 184\n",
      "17 248\n",
      "18 248\n",
      "19 248\n",
      "20 248\n",
      "21 248\n",
      "22 248\n",
      "23 248\n",
      "24 248\n",
      "25 312\n",
      "26 312\n",
      "27 312\n",
      "28 312\n",
      "29 312\n",
      "30 312\n",
      "31 312\n",
      "32 312\n",
      "33 376\n",
      "34 376\n",
      "35 376\n",
      "36 376\n",
      "37 376\n",
      "38 376\n",
      "39 376\n",
      "40 376\n",
      "41 472\n",
      "42 472\n",
      "43 472\n",
      "44 472\n",
      "45 472\n",
      "46 472\n",
      "47 472\n",
      "48 472\n",
      "49 472\n",
      "50 472\n",
      "51 472\n",
      "52 472\n",
      "53 568\n",
      "54 568\n",
      "55 568\n",
      "56 568\n",
      "57 568\n",
      "58 568\n",
      "59 568\n",
      "60 568\n",
      "61 568\n",
      "62 568\n",
      "63 568\n",
      "64 568\n",
      "65 664\n",
      "66 664\n",
      "67 664\n",
      "68 664\n",
      "69 664\n",
      "70 664\n",
      "71 664\n",
      "72 664\n",
      "73 664\n",
      "74 664\n",
      "75 664\n",
      "76 664\n",
      "77 792\n",
      "78 792\n",
      "79 792\n",
      "80 792\n",
      "81 792\n",
      "82 792\n",
      "83 792\n",
      "84 792\n",
      "85 792\n",
      "86 792\n",
      "87 792\n",
      "88 792\n",
      "89 792\n",
      "90 792\n",
      "91 792\n",
      "92 792\n",
      "93 920\n",
      "94 920\n",
      "95 920\n",
      "96 920\n",
      "97 920\n",
      "98 920\n",
      "99 920\n"
     ]
    }
   ],
   "source": [
    "l = []\n",
    "for i in range(100):\n",
    "    print(i,sys.getsizeof(l))\n",
    "    l.append(i)"
   ]
  },
  {
   "cell_type": "code",
   "execution_count": 17,
   "id": "641fbd7c",
   "metadata": {},
   "outputs": [],
   "source": [
    "import ctypes # A foreign function library for python its provides c comprtable data types \n"
   ]
  },
  {
   "cell_type": "code",
   "execution_count": 124,
   "id": "1c0d5da1",
   "metadata": {},
   "outputs": [],
   "source": [
    "class Meralist:\n",
    "    \n",
    "    def __init__(self):\n",
    "        self.size = 1\n",
    "        self.n = 0\n",
    "        #create a c type  array with size = self.size\n",
    "        self.A = self.__make_array(self.size)\n",
    "    \n",
    "    def __len__(self):\n",
    "        return self.n\n",
    "    \n",
    "    def __str__(self):\n",
    "        #[1,2,3]\n",
    "        result= ''\n",
    "        for i in range(self.n):\n",
    "            result = result + str(self.A[i]) + ','\n",
    "        return '[' + result[:-1] + ']'    \n",
    "    \n",
    "    def __getitem__(self,index):\n",
    "        if 0 <= index < self.n:\n",
    "            return self.A[index]\n",
    "        else:\n",
    "            return 'IndexError - Index out of range'\n",
    "        \n",
    "    def __delitem__(self,pos):\n",
    "        #delete\n",
    "        if 0<= pos < self.n:\n",
    "             for i in range(pos,self.n-1):\n",
    "                self.A[i] = self.A[i+1]\n",
    "            \n",
    "             self.n = self.n - 1\n",
    "        \n",
    "        \n",
    "        \n",
    "    def append(self,item):\n",
    "        if self.n == self.size:\n",
    "            #resize\n",
    "            self.__resize(self.size*2)\n",
    "            \n",
    "          # append\n",
    "        self.A[self.n] = item\n",
    "        self.n = self.n + 1\n",
    "        \n",
    "    def pop(self):\n",
    "        if self.n == 0:\n",
    "            return 'Empty list'\n",
    "        \n",
    "        print(self.A[self.n-1])\n",
    "        self.n = self.n - 1\n",
    "        \n",
    "    def clear(self):\n",
    "        self.n = 0\n",
    "        self.A = 1\n",
    "        \n",
    "    def find(self,item):\n",
    "        for i in range(self.n):\n",
    "            if self.A[i] == item:\n",
    "                return i\n",
    "        return 'valueError' \n",
    "    \n",
    "    def insert(self,pos,item):\n",
    "        if self.n == self.size:\n",
    "            self.__resize(self,size*2)\n",
    "        \n",
    "        for i in range(self.n,pos,-1):\n",
    "            self.A[i] = self.A[i-1]\n",
    "            \n",
    "        self.A[pos] = item\n",
    "        self.n = self.n + 1\n",
    "        \n",
    "    def remove(self,item):\n",
    "        pos = self.find(item)\n",
    "        if type(pos) == int:\n",
    "            self.__delitem__(pos)\n",
    "            # delete\n",
    "        else:\n",
    "            return pos\n",
    "        \n",
    "    def __resize(self,new_capacity):\n",
    "        #create a new array with new capacity\n",
    "        B = self.__make_array(new_capacity)\n",
    "        self.size = new_capacity\n",
    "        \n",
    "        #copy the content A to B\n",
    "        for i in range(self.n):\n",
    "            B[i] = self.A[i]\n",
    "        #reassign A\n",
    "        self.A= B\n",
    "        \n",
    "            \n",
    "    def __make_array(self,capacity):\n",
    "        return (capacity*ctypes.py_object)() # create a c type array(static,referential) with size capacity"
   ]
  },
  {
   "cell_type": "code",
   "execution_count": 116,
   "id": "b36a4507",
   "metadata": {},
   "outputs": [],
   "source": [
    "l=Meralist()"
   ]
  },
  {
   "cell_type": "code",
   "execution_count": 117,
   "id": "26374853",
   "metadata": {},
   "outputs": [
    {
     "data": {
      "text/plain": [
       "__main__.Meralist"
      ]
     },
     "execution_count": 117,
     "metadata": {},
     "output_type": "execute_result"
    }
   ],
   "source": [
    "type(l)"
   ]
  },
  {
   "cell_type": "markdown",
   "id": "168ed412",
   "metadata": {},
   "source": [
    "### Append method"
   ]
  },
  {
   "cell_type": "code",
   "execution_count": 128,
   "id": "feec978d",
   "metadata": {},
   "outputs": [],
   "source": [
    "l.append('mahi')\n",
    "l.append(3.4)\n",
    "l.append(True)\n",
    "l.append(100)\n"
   ]
  },
  {
   "cell_type": "code",
   "execution_count": 129,
   "id": "b07dbe1e",
   "metadata": {},
   "outputs": [],
   "source": [
    "l.append(32)"
   ]
  },
  {
   "cell_type": "markdown",
   "id": "7e3e1eb4",
   "metadata": {},
   "source": [
    "### remove"
   ]
  },
  {
   "cell_type": "code",
   "execution_count": 130,
   "id": "116308b6",
   "metadata": {},
   "outputs": [],
   "source": [
    "l.remove(100)"
   ]
  },
  {
   "cell_type": "code",
   "execution_count": 131,
   "id": "45800e41",
   "metadata": {},
   "outputs": [],
   "source": [
    "l.remove(3.4)"
   ]
  },
  {
   "cell_type": "code",
   "execution_count": 132,
   "id": "07495621",
   "metadata": {},
   "outputs": [
    {
     "name": "stdout",
     "output_type": "stream",
     "text": [
      "[mahi,True,32,mahi,True,32]\n"
     ]
    }
   ],
   "source": [
    "print(l)"
   ]
  },
  {
   "cell_type": "markdown",
   "id": "d0524260",
   "metadata": {},
   "source": [
    "### Delete"
   ]
  },
  {
   "cell_type": "code",
   "execution_count": 120,
   "id": "21640d15",
   "metadata": {},
   "outputs": [],
   "source": [
    "del l[3]"
   ]
  },
  {
   "cell_type": "code",
   "execution_count": 121,
   "id": "57ab8d58",
   "metadata": {},
   "outputs": [],
   "source": [
    "del l[100]"
   ]
  },
  {
   "cell_type": "code",
   "execution_count": 122,
   "id": "c2332091",
   "metadata": {},
   "outputs": [
    {
     "name": "stdout",
     "output_type": "stream",
     "text": [
      "[mahi,3.4,True,32]\n"
     ]
    }
   ],
   "source": [
    "print(l)"
   ]
  },
  {
   "cell_type": "markdown",
   "id": "929e2138",
   "metadata": {},
   "source": [
    "### Insert"
   ]
  },
  {
   "cell_type": "code",
   "execution_count": 106,
   "id": "f1352101",
   "metadata": {},
   "outputs": [
    {
     "name": "stdout",
     "output_type": "stream",
     "text": [
      "[mahi,3.4,True,32]\n"
     ]
    }
   ],
   "source": [
    "print(l)"
   ]
  },
  {
   "cell_type": "code",
   "execution_count": 107,
   "id": "d481c6c0",
   "metadata": {},
   "outputs": [],
   "source": [
    "l.insert(0,0)"
   ]
  },
  {
   "cell_type": "code",
   "execution_count": 108,
   "id": "1d1b0b11",
   "metadata": {},
   "outputs": [],
   "source": [
    "l.insert(2,'suryavanshi')"
   ]
  },
  {
   "cell_type": "code",
   "execution_count": 109,
   "id": "b27e29a5",
   "metadata": {},
   "outputs": [
    {
     "name": "stdout",
     "output_type": "stream",
     "text": [
      "[0,mahi,suryavanshi,3.4,True,32]\n"
     ]
    }
   ],
   "source": [
    "print(l)"
   ]
  },
  {
   "cell_type": "markdown",
   "id": "e3be1887",
   "metadata": {},
   "source": [
    "### Indexing"
   ]
  },
  {
   "cell_type": "code",
   "execution_count": 110,
   "id": "7b9b118c",
   "metadata": {},
   "outputs": [
    {
     "data": {
      "text/plain": [
       "0"
      ]
     },
     "execution_count": 110,
     "metadata": {},
     "output_type": "execute_result"
    }
   ],
   "source": [
    "l[0]"
   ]
  },
  {
   "cell_type": "code",
   "execution_count": 111,
   "id": "ab21c007",
   "metadata": {},
   "outputs": [
    {
     "data": {
      "text/plain": [
       "'IndexError - Index out of range'"
      ]
     },
     "execution_count": 111,
     "metadata": {},
     "output_type": "execute_result"
    }
   ],
   "source": [
    "l[10]"
   ]
  },
  {
   "cell_type": "markdown",
   "id": "084af0c8",
   "metadata": {},
   "source": [
    "### Pop"
   ]
  },
  {
   "cell_type": "code",
   "execution_count": 44,
   "id": "2c39a325",
   "metadata": {
    "scrolled": true
   },
   "outputs": [
    {
     "name": "stdout",
     "output_type": "stream",
     "text": [
      "32\n"
     ]
    }
   ],
   "source": [
    "l.pop()"
   ]
  },
  {
   "cell_type": "code",
   "execution_count": 45,
   "id": "a8bc3f99",
   "metadata": {},
   "outputs": [
    {
     "name": "stdout",
     "output_type": "stream",
     "text": [
      "100\n"
     ]
    }
   ],
   "source": [
    "l.pop()"
   ]
  },
  {
   "cell_type": "markdown",
   "id": "1202e046",
   "metadata": {},
   "source": [
    "### Find "
   ]
  },
  {
   "cell_type": "code",
   "execution_count": 46,
   "id": "c4b512ff",
   "metadata": {},
   "outputs": [
    {
     "data": {
      "text/plain": [
       "0"
      ]
     },
     "execution_count": 46,
     "metadata": {},
     "output_type": "execute_result"
    }
   ],
   "source": [
    "l.find('mahi')"
   ]
  },
  {
   "cell_type": "code",
   "execution_count": 47,
   "id": "da69ec17",
   "metadata": {},
   "outputs": [
    {
     "data": {
      "text/plain": [
       "'valueError'"
      ]
     },
     "execution_count": 47,
     "metadata": {},
     "output_type": "execute_result"
    }
   ],
   "source": [
    "l.find('hello')"
   ]
  },
  {
   "cell_type": "markdown",
   "id": "698b7b22",
   "metadata": {},
   "source": [
    "### Clear"
   ]
  },
  {
   "cell_type": "code",
   "execution_count": 27,
   "id": "fb290eaa",
   "metadata": {},
   "outputs": [],
   "source": [
    "l.clear()"
   ]
  },
  {
   "cell_type": "code",
   "execution_count": 28,
   "id": "47c7e303",
   "metadata": {
    "scrolled": true
   },
   "outputs": [
    {
     "data": {
      "text/plain": [
       "0"
      ]
     },
     "execution_count": 28,
     "metadata": {},
     "output_type": "execute_result"
    }
   ],
   "source": [
    "len(l)"
   ]
  },
  {
   "cell_type": "code",
   "execution_count": 29,
   "id": "be3c5130",
   "metadata": {},
   "outputs": [
    {
     "name": "stdout",
     "output_type": "stream",
     "text": [
      "[]\n"
     ]
    }
   ],
   "source": [
    "print(l)"
   ]
  },
  {
   "cell_type": "code",
   "execution_count": 30,
   "id": "06c9e03b",
   "metadata": {},
   "outputs": [
    {
     "name": "stdout",
     "output_type": "stream",
     "text": [
      "[]\n"
     ]
    }
   ],
   "source": [
    "print(l)"
   ]
  },
  {
   "cell_type": "code",
   "execution_count": 31,
   "id": "94cdf869",
   "metadata": {},
   "outputs": [
    {
     "data": {
      "text/plain": [
       "0"
      ]
     },
     "execution_count": 31,
     "metadata": {},
     "output_type": "execute_result"
    }
   ],
   "source": [
    "len(l)"
   ]
  },
  {
   "cell_type": "markdown",
   "id": "cc28bf03",
   "metadata": {},
   "source": [
    "### Add feature of LEN"
   ]
  },
  {
   "cell_type": "code",
   "execution_count": 32,
   "id": "145ce2c6",
   "metadata": {},
   "outputs": [
    {
     "data": {
      "text/plain": [
       "3"
      ]
     },
     "execution_count": 32,
     "metadata": {},
     "output_type": "execute_result"
    }
   ],
   "source": [
    "l =[10,20,30]\n",
    "len(l)"
   ]
  },
  {
   "cell_type": "code",
   "execution_count": 33,
   "id": "1a605f43",
   "metadata": {},
   "outputs": [
    {
     "data": {
      "text/plain": [
       "[10, 20, 30]"
      ]
     },
     "execution_count": 33,
     "metadata": {},
     "output_type": "execute_result"
    }
   ],
   "source": [
    "l"
   ]
  },
  {
   "cell_type": "code",
   "execution_count": 34,
   "id": "e3c2b87c",
   "metadata": {},
   "outputs": [],
   "source": [
    "l.append('mahi')"
   ]
  },
  {
   "cell_type": "code",
   "execution_count": 35,
   "id": "e5fc4f34",
   "metadata": {},
   "outputs": [
    {
     "data": {
      "text/plain": [
       "[10, 20, 30, 'mahi']"
      ]
     },
     "execution_count": 35,
     "metadata": {},
     "output_type": "execute_result"
    }
   ],
   "source": [
    "l"
   ]
  },
  {
   "cell_type": "code",
   "execution_count": null,
   "id": "930288db",
   "metadata": {},
   "outputs": [],
   "source": []
  }
 ],
 "metadata": {
  "kernelspec": {
   "display_name": "Python 3 (ipykernel)",
   "language": "python",
   "name": "python3"
  },
  "language_info": {
   "codemirror_mode": {
    "name": "ipython",
    "version": 3
   },
   "file_extension": ".py",
   "mimetype": "text/x-python",
   "name": "python",
   "nbconvert_exporter": "python",
   "pygments_lexer": "ipython3",
   "version": "3.11.5"
  }
 },
 "nbformat": 4,
 "nbformat_minor": 5
}
