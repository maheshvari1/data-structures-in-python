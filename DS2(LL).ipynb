{
 "cells": [
  {
   "cell_type": "raw",
   "id": "6510b73c",
   "metadata": {},
   "source": [
    "What is a LL\n",
    "\n",
    "Node   [D]\n",
    "Create a LL\n",
    "len\n",
    "insert from head\n",
    "traverse/print\n",
    "insert from tail(append)\n",
    "insert in middle(after)\n",
    "\n",
    "\n",
    "clear\n",
    "delete from head\n",
    "delete from tail(pop)\n",
    "delete by value(remove)\n",
    "\n",
    "search by value(find)\n",
    "delete by index -> del l[0]\n",
    "search by index(indexing)\n",
    "\n"
   ]
  },
  {
   "cell_type": "code",
   "execution_count": 1,
   "id": "e318acaf",
   "metadata": {},
   "outputs": [],
   "source": [
    "class Node:\n",
    "    def __init__(self,value):\n",
    "        self.data = value\n",
    "        self.next = None\n",
    "    "
   ]
  },
  {
   "cell_type": "code",
   "execution_count": 2,
   "id": "ecd23f74",
   "metadata": {},
   "outputs": [],
   "source": [
    "a = Node(1)\n",
    "b = Node(2)\n",
    "c = Node(3)"
   ]
  },
  {
   "cell_type": "code",
   "execution_count": 3,
   "id": "f8e13945",
   "metadata": {},
   "outputs": [
    {
     "name": "stdout",
     "output_type": "stream",
     "text": [
      "1\n"
     ]
    }
   ],
   "source": [
    "print(a.data)"
   ]
  },
  {
   "cell_type": "code",
   "execution_count": 4,
   "id": "c7a94a16",
   "metadata": {},
   "outputs": [
    {
     "name": "stdout",
     "output_type": "stream",
     "text": [
      "None\n"
     ]
    }
   ],
   "source": [
    "print(a.next)"
   ]
  },
  {
   "cell_type": "code",
   "execution_count": 5,
   "id": "1bc69fb4",
   "metadata": {},
   "outputs": [],
   "source": [
    "a.next = b\n",
    "b.next = c"
   ]
  },
  {
   "cell_type": "code",
   "execution_count": 6,
   "id": "950a8a5e",
   "metadata": {},
   "outputs": [
    {
     "name": "stdout",
     "output_type": "stream",
     "text": [
      "<__main__.Node object at 0x000002B321E14B10>\n"
     ]
    }
   ],
   "source": [
    "print(a.next)"
   ]
  },
  {
   "cell_type": "code",
   "execution_count": 7,
   "id": "34ab6e0e",
   "metadata": {},
   "outputs": [
    {
     "data": {
      "text/plain": [
       "2079915593488"
      ]
     },
     "execution_count": 7,
     "metadata": {},
     "output_type": "execute_result"
    }
   ],
   "source": [
    "int(0x000001E444A14F10)"
   ]
  },
  {
   "cell_type": "code",
   "execution_count": 2,
   "id": "454a02f9",
   "metadata": {},
   "outputs": [],
   "source": [
    "class node:\n",
    "    def __init__(self,value):\n",
    "        self.data = value\n",
    "        self.next = None"
   ]
  },
  {
   "cell_type": "code",
   "execution_count": 97,
   "id": "be5fb724",
   "metadata": {},
   "outputs": [],
   "source": [
    "class linklist:\n",
    "    def __init__(self):\n",
    "        \n",
    "        #empty  link list\n",
    "        self.head = None\n",
    "        # no of node inthe list\n",
    "        self.n = 0\n",
    "        \n",
    "    def __len__(self):\n",
    "        return self.n\n",
    "    \n",
    "    \n",
    "    def insert_head(self,value):\n",
    "        \n",
    "        # new node\n",
    "        new_node = node(value)\n",
    "        \n",
    "        #create connection\n",
    "        new_node.next = self.head\n",
    "        \n",
    "        #reassign node\n",
    "        self.head = new_node\n",
    "        \n",
    "        #increment n\n",
    "        self.n = self.n + 1\n",
    "     \n",
    "    # traverse\n",
    "    def __str__(self):\n",
    "        \n",
    "        curr = self.head\n",
    "        \n",
    "        result = ''\n",
    "        \n",
    "        while curr != None:\n",
    "            result = result + str(curr.data) + '->'\n",
    "            curr = curr.next\n",
    "        return result[:-2]\n",
    "    \n",
    "    \n",
    "    def append(self,value):\n",
    "        \n",
    "        new_node = node(value)\n",
    "        \n",
    "        if self.head == None:\n",
    "            # empty\n",
    "            self.head = new_node\n",
    "            self.n = self.n + 1\n",
    "        return\n",
    "    \n",
    "        curr = self.head\n",
    "        \n",
    "        while curr.next != None:\n",
    "            curr =  curr.next\n",
    "            \n",
    "        # your are at the last node\n",
    "        curr.next = new_node\n",
    "        self.n = self.n + 1\n",
    "        \n",
    "        \n",
    "        \n",
    "        \n",
    "    \n",
    "    def insert_after(self,after,value):\n",
    "        \n",
    "        new_node = node(value)\n",
    "        \n",
    "        curr = self.head\n",
    "        \n",
    "        while curr != None:\n",
    "            if curr.data == after:\n",
    "                break\n",
    "            \n",
    "            curr = curr.next\n",
    "            \n",
    "            # Case 1 break -> item apko mil gaya -> curr is -> not none\n",
    "        if curr != None:\n",
    "            new_node.next = curr.next\n",
    "            curr.next =new_node\n",
    "            self.n = self.n + 1 \n",
    "                #logic\n",
    "        else:\n",
    "            return 'item not found'\n",
    "            # Case 2 loop pura chala -> item nahi mila -> curr -> None\n",
    "            \n",
    "    def clear(self):\n",
    "        self.head = None\n",
    "        self.n = 0\n",
    "            \n",
    "    def delete_head(self):    # delete from head\n",
    "        \n",
    "        if self.head == None:\n",
    "            # empty ll\n",
    "            return 'Empty ll'\n",
    "        \n",
    "        self.head = self.head.next\n",
    "        \n",
    "        \n",
    "    def pop(self):\n",
    "        \n",
    "        if self.head == None:\n",
    "            # empty\n",
    "            return 'Empty ll'\n",
    "        \n",
    "        curr = self.head\n",
    "        \n",
    "        while curr.next.next !=None:\n",
    "            curr = curr.next\n",
    "            \n",
    "            # kya LL me 1 item hai?\n",
    "            if curr.next == None:\n",
    "                #head hi hoga(del from head)\n",
    "                return self.delete_head()\n",
    "                    \n",
    "            \n",
    "        #curr -> 2nd last node \n",
    "        curr.next = None\n",
    "        self.n = self.n - 1\n",
    "        \n",
    "    def remove(self,value):\n",
    "        \n",
    "        if self.head == None:\n",
    "            return 'Empty LL'\n",
    "        \n",
    "        if self.head.data == value:\n",
    "            #you want to remove the head node\n",
    "            return self.delete_head()\n",
    "        \n",
    "        curr = self.head\n",
    "        \n",
    "        while curr.next != None:\n",
    "            if curr.next.data == value:\n",
    "                break\n",
    "            curr = curr.next\n",
    "            \n",
    "            # 2 cases , item mil gaya\n",
    "            # item nhi mila\n",
    "            \n",
    "            if curr.next == None:\n",
    "                # item nai mila\n",
    "                return 'Not Found'\n",
    "            else:\n",
    "                curr.next = curr.next.next\n",
    "                \n",
    "       \n",
    "    def search(self,item):\n",
    "        curr = self.head\n",
    "        pos = 0\n",
    "        \n",
    "        while curr != None:\n",
    "            if curr.data == item:\n",
    "                return pos\n",
    "                \n",
    "            curr = curr.next\n",
    "            pos = pos + 1\n",
    "            \n",
    "        return 'not found'\n",
    "    \n",
    "    def __getitem__(self,index):\n",
    "        \n",
    "        curr = self.head\n",
    "        pos = 0\n",
    "        \n",
    "        while curr != None:\n",
    "            if pos == index:\n",
    "                return curr.data\n",
    "            \n",
    "            curr= curr.next\n",
    "            pos = pos +1\n",
    "            \n",
    "        return 'index error'  \n",
    "    \n",
    "    def replace_max(self,value):\n",
    "        \n",
    "        temp = self.head\n",
    "        max = temp\n",
    "        \n",
    "        while temp != None:\n",
    "            \n",
    "            if temp.data > max.data:\n",
    "                max = temp\n",
    "            \n",
    "            temp = temp.next\n",
    "            \n",
    "        max.data = value\n",
    "    \n",
    "        \n",
    "    \n",
    "    def sum_odd_nodes(self):\n",
    "        \n",
    "        temp = self.head\n",
    "        counter = 0\n",
    "        result = 0\n",
    "        \n",
    "        while temp != None:\n",
    "            \n",
    "            if counter % 2 != 0:\n",
    "                result = result + temp.data\n",
    "                \n",
    "            counter += 1\n",
    "            temp = temp.next\n",
    "            \n",
    "        print(result)    \n",
    "    \n",
    "    \n",
    "    \n",
    "    def reverse(self):\n",
    "        \n",
    "        prev_node = None\n",
    "        \n",
    "        curr_node = self.head\n",
    "        \n",
    "        while curr_node != None:\n",
    "            \n",
    "            next_node = curr_node.next\n",
    "            curr_node.next = prev_node\n",
    "            prev_node = curr_node\n",
    "            curr_node = next_node\n",
    "        self.head = prev_node\n",
    "        \n",
    "        \n",
    "    \n",
    "    def change_sent(self):\n",
    "        \n",
    "        temp = self.head\n",
    "        \n",
    "        while temp != None:\n",
    "            \n",
    "            if temp.data == '*' or temp.data == '/':\n",
    "                \n",
    "                temp.data = ' '\n",
    "                \n",
    "                if temp.next.data == '*' or temp.next.data == '/':\n",
    "                    temp.next.next.data = temp.next.next.data.upper()\n",
    "                    temp.next = temp.next.next\n",
    "                \n",
    "            temp = temp.next    \n",
    "                "
   ]
  },
  {
   "cell_type": "code",
   "execution_count": 16,
   "id": "1e85feb6",
   "metadata": {},
   "outputs": [],
   "source": [
    "l = linklist()"
   ]
  },
  {
   "cell_type": "code",
   "execution_count": 17,
   "id": "104f977e",
   "metadata": {},
   "outputs": [],
   "source": [
    "l.insert_head(1)\n",
    "l.insert_head(2)\n",
    "l.insert_head(3)\n",
    "l.insert_head(4)"
   ]
  },
  {
   "cell_type": "code",
   "execution_count": 11,
   "id": "768b21ce",
   "metadata": {},
   "outputs": [],
   "source": [
    "l.insert_head(5)\n"
   ]
  },
  {
   "cell_type": "code",
   "execution_count": 18,
   "id": "37cecbbf",
   "metadata": {},
   "outputs": [
    {
     "name": "stdout",
     "output_type": "stream",
     "text": [
      "5->4->3->2->1->9\n"
     ]
    }
   ],
   "source": [
    "print(l)"
   ]
  },
  {
   "cell_type": "code",
   "execution_count": 11,
   "id": "7dd6a68c",
   "metadata": {},
   "outputs": [
    {
     "data": {
      "text/plain": [
       "5"
      ]
     },
     "execution_count": 11,
     "metadata": {},
     "output_type": "execute_result"
    }
   ],
   "source": [
    "len(l)"
   ]
  },
  {
   "cell_type": "code",
   "execution_count": 11,
   "id": "80fd20ef",
   "metadata": {},
   "outputs": [],
   "source": [
    "l = linklist()"
   ]
  },
  {
   "cell_type": "code",
   "execution_count": 13,
   "id": "4195964f",
   "metadata": {},
   "outputs": [],
   "source": [
    "l.append(9)"
   ]
  },
  {
   "cell_type": "code",
   "execution_count": 14,
   "id": "487b0291",
   "metadata": {},
   "outputs": [],
   "source": [
    "l.append(56)"
   ]
  },
  {
   "cell_type": "code",
   "execution_count": 19,
   "id": "78ec044d",
   "metadata": {},
   "outputs": [
    {
     "data": {
      "text/plain": [
       "'item not found'"
      ]
     },
     "execution_count": 19,
     "metadata": {},
     "output_type": "execute_result"
    }
   ],
   "source": [
    "l.insert_after(20,200)"
   ]
  },
  {
   "cell_type": "code",
   "execution_count": 20,
   "id": "170d4f50",
   "metadata": {},
   "outputs": [],
   "source": [
    "l.insert_after(1,200)"
   ]
  },
  {
   "cell_type": "code",
   "execution_count": 22,
   "id": "99382ead",
   "metadata": {},
   "outputs": [
    {
     "name": "stdout",
     "output_type": "stream",
     "text": [
      "5->4->3->2->1->200->9\n"
     ]
    }
   ],
   "source": [
    "# single LL\n",
    "l.append(87)\n",
    "print(l)"
   ]
  },
  {
   "cell_type": "code",
   "execution_count": 23,
   "id": "f3b1607a",
   "metadata": {},
   "outputs": [
    {
     "data": {
      "text/plain": [
       "'item not found'"
      ]
     },
     "execution_count": 23,
     "metadata": {},
     "output_type": "execute_result"
    }
   ],
   "source": [
    "l.insert_after(87,90)"
   ]
  },
  {
   "cell_type": "code",
   "execution_count": 30,
   "id": "f781591b",
   "metadata": {},
   "outputs": [
    {
     "name": "stdout",
     "output_type": "stream",
     "text": [
      "4->3->2->1\n"
     ]
    }
   ],
   "source": [
    "print(l)"
   ]
  },
  {
   "cell_type": "code",
   "execution_count": 31,
   "id": "ccb51ecc",
   "metadata": {},
   "outputs": [],
   "source": [
    "l.clear()"
   ]
  },
  {
   "cell_type": "code",
   "execution_count": 32,
   "id": "cad9de7b",
   "metadata": {},
   "outputs": [
    {
     "name": "stdout",
     "output_type": "stream",
     "text": [
      "\n"
     ]
    }
   ],
   "source": [
    "print(l)"
   ]
  },
  {
   "cell_type": "code",
   "execution_count": 36,
   "id": "c560864c",
   "metadata": {},
   "outputs": [
    {
     "name": "stdout",
     "output_type": "stream",
     "text": [
      "5->4->3->2->1\n"
     ]
    }
   ],
   "source": [
    "print(l)"
   ]
  },
  {
   "cell_type": "code",
   "execution_count": 43,
   "id": "21f45772",
   "metadata": {},
   "outputs": [],
   "source": [
    "l.delete_head()"
   ]
  },
  {
   "cell_type": "code",
   "execution_count": 38,
   "id": "cefab8b3",
   "metadata": {},
   "outputs": [
    {
     "name": "stdout",
     "output_type": "stream",
     "text": [
      "4->3->2->1\n"
     ]
    }
   ],
   "source": [
    "print(l)"
   ]
  },
  {
   "cell_type": "code",
   "execution_count": 40,
   "id": "e2559a28",
   "metadata": {},
   "outputs": [
    {
     "name": "stdout",
     "output_type": "stream",
     "text": [
      "3->2->1\n"
     ]
    }
   ],
   "source": [
    "print(l)"
   ]
  },
  {
   "cell_type": "code",
   "execution_count": 42,
   "id": "7ea6beaf",
   "metadata": {},
   "outputs": [
    {
     "name": "stdout",
     "output_type": "stream",
     "text": [
      "2->1\n"
     ]
    }
   ],
   "source": [
    "print(l)"
   ]
  },
  {
   "cell_type": "code",
   "execution_count": 44,
   "id": "58f12666",
   "metadata": {},
   "outputs": [
    {
     "name": "stdout",
     "output_type": "stream",
     "text": [
      "1\n"
     ]
    }
   ],
   "source": [
    "print(l)"
   ]
  },
  {
   "cell_type": "code",
   "execution_count": 55,
   "id": "ee750023",
   "metadata": {},
   "outputs": [],
   "source": [
    "l.pop()"
   ]
  },
  {
   "cell_type": "code",
   "execution_count": 51,
   "id": "f753ab88",
   "metadata": {},
   "outputs": [
    {
     "name": "stdout",
     "output_type": "stream",
     "text": [
      "5->4->3->2\n"
     ]
    }
   ],
   "source": [
    "print(l)"
   ]
  },
  {
   "cell_type": "code",
   "execution_count": 53,
   "id": "5cdb3c64",
   "metadata": {},
   "outputs": [
    {
     "name": "stdout",
     "output_type": "stream",
     "text": [
      "5->4->3\n"
     ]
    }
   ],
   "source": [
    "print(l)"
   ]
  },
  {
   "cell_type": "code",
   "execution_count": 56,
   "id": "e86f29ae",
   "metadata": {},
   "outputs": [
    {
     "name": "stdout",
     "output_type": "stream",
     "text": [
      "5->4\n"
     ]
    }
   ],
   "source": [
    "print(l)"
   ]
  },
  {
   "cell_type": "code",
   "execution_count": 82,
   "id": "98a83b48",
   "metadata": {},
   "outputs": [
    {
     "data": {
      "text/plain": [
       "'Not Found'"
      ]
     },
     "execution_count": 82,
     "metadata": {},
     "output_type": "execute_result"
    }
   ],
   "source": [
    "l.remove(1)"
   ]
  },
  {
   "cell_type": "code",
   "execution_count": 65,
   "id": "4eddb4d5",
   "metadata": {},
   "outputs": [
    {
     "name": "stdout",
     "output_type": "stream",
     "text": [
      "5->4->3->2->1\n"
     ]
    }
   ],
   "source": [
    "print(l)"
   ]
  },
  {
   "cell_type": "code",
   "execution_count": 83,
   "id": "75e0da2e",
   "metadata": {},
   "outputs": [
    {
     "name": "stdout",
     "output_type": "stream",
     "text": [
      "4->2\n"
     ]
    }
   ],
   "source": [
    "print(l)"
   ]
  },
  {
   "cell_type": "code",
   "execution_count": 78,
   "id": "058aa03a",
   "metadata": {},
   "outputs": [],
   "source": [
    "l.remove(3)"
   ]
  },
  {
   "cell_type": "code",
   "execution_count": 79,
   "id": "0359e919",
   "metadata": {},
   "outputs": [
    {
     "name": "stdout",
     "output_type": "stream",
     "text": [
      "5->4->2\n"
     ]
    }
   ],
   "source": [
    "print(l)"
   ]
  },
  {
   "cell_type": "code",
   "execution_count": 80,
   "id": "9e96d5d3",
   "metadata": {},
   "outputs": [],
   "source": [
    "l.remove(5)"
   ]
  },
  {
   "cell_type": "code",
   "execution_count": 81,
   "id": "5a078353",
   "metadata": {},
   "outputs": [
    {
     "name": "stdout",
     "output_type": "stream",
     "text": [
      "4->2\n"
     ]
    }
   ],
   "source": [
    "print(l)"
   ]
  },
  {
   "cell_type": "code",
   "execution_count": 7,
   "id": "5971e0eb",
   "metadata": {},
   "outputs": [
    {
     "name": "stdout",
     "output_type": "stream",
     "text": [
      "5->4->3->2->1\n"
     ]
    }
   ],
   "source": [
    "print(l)"
   ]
  },
  {
   "cell_type": "code",
   "execution_count": 8,
   "id": "f914d80b",
   "metadata": {},
   "outputs": [
    {
     "data": {
      "text/plain": [
       "2"
      ]
     },
     "execution_count": 8,
     "metadata": {},
     "output_type": "execute_result"
    }
   ],
   "source": [
    "l.search(3)"
   ]
  },
  {
   "cell_type": "code",
   "execution_count": 9,
   "id": "e3f797c4",
   "metadata": {},
   "outputs": [
    {
     "data": {
      "text/plain": [
       "0"
      ]
     },
     "execution_count": 9,
     "metadata": {},
     "output_type": "execute_result"
    }
   ],
   "source": [
    "l.search(5)"
   ]
  },
  {
   "cell_type": "code",
   "execution_count": 10,
   "id": "b3fc5f68",
   "metadata": {},
   "outputs": [
    {
     "data": {
      "text/plain": [
       "'not found'"
      ]
     },
     "execution_count": 10,
     "metadata": {},
     "output_type": "execute_result"
    }
   ],
   "source": [
    "l.search(90)"
   ]
  },
  {
   "cell_type": "code",
   "execution_count": 12,
   "id": "906d274b",
   "metadata": {},
   "outputs": [
    {
     "data": {
      "text/plain": [
       "'not found'"
      ]
     },
     "execution_count": 12,
     "metadata": {},
     "output_type": "execute_result"
    }
   ],
   "source": [
    "l.search(90)  # empty ll "
   ]
  },
  {
   "cell_type": "code",
   "execution_count": 17,
   "id": "cb2be01b",
   "metadata": {},
   "outputs": [
    {
     "name": "stdout",
     "output_type": "stream",
     "text": [
      "5->4->3->2->1\n"
     ]
    }
   ],
   "source": [
    "print(l)"
   ]
  },
  {
   "cell_type": "code",
   "execution_count": 18,
   "id": "1a43e109",
   "metadata": {},
   "outputs": [
    {
     "data": {
      "text/plain": [
       "5"
      ]
     },
     "execution_count": 18,
     "metadata": {},
     "output_type": "execute_result"
    }
   ],
   "source": [
    "l[0]"
   ]
  },
  {
   "cell_type": "code",
   "execution_count": 19,
   "id": "bb92e884",
   "metadata": {},
   "outputs": [
    {
     "data": {
      "text/plain": [
       "1"
      ]
     },
     "execution_count": 19,
     "metadata": {},
     "output_type": "execute_result"
    }
   ],
   "source": [
    "l[4]"
   ]
  },
  {
   "cell_type": "code",
   "execution_count": 28,
   "id": "ffc210d8",
   "metadata": {},
   "outputs": [],
   "source": [
    "l[9]"
   ]
  },
  {
   "cell_type": "code",
   "execution_count": 33,
   "id": "2a2151b6",
   "metadata": {},
   "outputs": [
    {
     "name": "stdout",
     "output_type": "stream",
     "text": [
      "5->4->3->2->1\n"
     ]
    }
   ],
   "source": [
    "print(l)"
   ]
  },
  {
   "cell_type": "code",
   "execution_count": 34,
   "id": "6121985e",
   "metadata": {},
   "outputs": [],
   "source": [
    "l.replace_max(12)"
   ]
  },
  {
   "cell_type": "code",
   "execution_count": 35,
   "id": "33c3b163",
   "metadata": {},
   "outputs": [
    {
     "name": "stdout",
     "output_type": "stream",
     "text": [
      "12->4->3->2->1\n"
     ]
    }
   ],
   "source": [
    "print(l)"
   ]
  },
  {
   "cell_type": "code",
   "execution_count": 7,
   "id": "e1a373bd",
   "metadata": {},
   "outputs": [],
   "source": [
    "l = linklist()"
   ]
  },
  {
   "cell_type": "code",
   "execution_count": 43,
   "id": "336f2c88",
   "metadata": {},
   "outputs": [
    {
     "name": "stdout",
     "output_type": "stream",
     "text": [
      "5->4->3->2->1\n"
     ]
    }
   ],
   "source": [
    "print(l)"
   ]
  },
  {
   "cell_type": "code",
   "execution_count": 44,
   "id": "7c558d76",
   "metadata": {},
   "outputs": [
    {
     "name": "stdout",
     "output_type": "stream",
     "text": [
      "6\n"
     ]
    }
   ],
   "source": [
    "l.sum_odd_nodes()"
   ]
  },
  {
   "cell_type": "code",
   "execution_count": 12,
   "id": "83494a8d",
   "metadata": {},
   "outputs": [
    {
     "name": "stdout",
     "output_type": "stream",
     "text": [
      "5->4->3->2->1\n"
     ]
    }
   ],
   "source": [
    "print(l)"
   ]
  },
  {
   "cell_type": "code",
   "execution_count": 18,
   "id": "4b2d9e1d",
   "metadata": {},
   "outputs": [],
   "source": [
    "l.reverse()"
   ]
  },
  {
   "cell_type": "code",
   "execution_count": 19,
   "id": "a60a4b6a",
   "metadata": {},
   "outputs": [
    {
     "name": "stdout",
     "output_type": "stream",
     "text": [
      "1->2->3->4\n"
     ]
    }
   ],
   "source": [
    "print(l)"
   ]
  },
  {
   "cell_type": "code",
   "execution_count": 102,
   "id": "2c1774e5",
   "metadata": {},
   "outputs": [],
   "source": [
    "class linklist:\n",
    "    def __init__(self):\n",
    "        \n",
    "        #empty  link list\n",
    "        self.head = None\n",
    "        # no of node inthe list\n",
    "        self.n = 0\n",
    "\n",
    "   \n",
    "    def insert_head(self,value):\n",
    "        \n",
    "        # new node\n",
    "        new_node = node(value)\n",
    "        \n",
    "        #create connection\n",
    "        new_node.next = self.head\n",
    "        \n",
    "        #reassign node\n",
    "        self.head = new_node\n",
    "        \n",
    "        #increment n\n",
    "        self.n = self.n + 1\n",
    "        \n",
    "   # traverse\n",
    "    def __str__(self):\n",
    "        \n",
    "        curr = self.head\n",
    "        \n",
    "        result = '  '\n",
    "        \n",
    "        while curr != None:\n",
    "            result = result + str(curr.data)\n",
    "            curr = curr.next\n",
    "        return result\n",
    "    \n",
    "    \n",
    "    def change_sent(self):\n",
    "        \n",
    "        temp = self.head\n",
    "        \n",
    "        while temp != None:\n",
    "            \n",
    "            if temp.data == '*' or temp.data == '/':\n",
    "                temp.data = ''\n",
    "                \n",
    "                if temp.next.data == '*' or temp.next.data == '/':\n",
    "                    temp.next.next.data = temp.next.next.data.upper()\n",
    "                    temp.next = temp.next.next\n",
    "                \n",
    "            temp = temp.next    \n",
    "                \n",
    "        \n",
    "        \n",
    "        \n",
    "        "
   ]
  },
  {
   "cell_type": "code",
   "execution_count": 65,
   "id": "c556ec2d",
   "metadata": {},
   "outputs": [],
   "source": [
    "l = linklist()\n"
   ]
  },
  {
   "cell_type": "code",
   "execution_count": 66,
   "id": "cfe1aeab",
   "metadata": {},
   "outputs": [],
   "source": [
    "l.insert_head('e')\n",
    "l.insert_head('u')\n",
    "l.insert_head('l')\n",
    "l.insert_head('b')\n",
    "l.insert_head('/')\n",
    "l.insert_head('/')\n",
    "l.insert_head('s')\n",
    "l.insert_head('i')\n",
    "l.insert_head('*')\n",
    "l.insert_head('y')\n",
    "l.insert_head('k')\n",
    "l.insert_head('s')\n",
    "l.insert_head('/')\n",
    "l.insert_head('*')\n",
    "l.insert_head('e')\n",
    "l.insert_head('h')\n",
    "l.insert_head('T')"
   ]
  },
  {
   "cell_type": "code",
   "execution_count": 67,
   "id": "31229434",
   "metadata": {},
   "outputs": [
    {
     "name": "stdout",
     "output_type": "stream",
     "text": [
      "  The*/sky*is//blue\n"
     ]
    }
   ],
   "source": [
    "print(l)"
   ]
  },
  {
   "cell_type": "code",
   "execution_count": 103,
   "id": "9c030787",
   "metadata": {},
   "outputs": [],
   "source": [
    "l.change_sent()"
   ]
  },
  {
   "cell_type": "code",
   "execution_count": 104,
   "id": "31d25ae3",
   "metadata": {},
   "outputs": [
    {
     "name": "stdout",
     "output_type": "stream",
     "text": [
      "  The sky is blue\n"
     ]
    }
   ],
   "source": [
    "print(l)"
   ]
  },
  {
   "cell_type": "code",
   "execution_count": 105,
   "id": "073791b4",
   "metadata": {},
   "outputs": [
    {
     "name": "stdout",
     "output_type": "stream",
     "text": [
      "  The sky is blue\n"
     ]
    }
   ],
   "source": [
    "print(l)"
   ]
  },
  {
   "cell_type": "code",
   "execution_count": null,
   "id": "33a317ae",
   "metadata": {},
   "outputs": [],
   "source": []
  },
  {
   "cell_type": "code",
   "execution_count": null,
   "id": "692b52d8",
   "metadata": {},
   "outputs": [],
   "source": []
  }
 ],
 "metadata": {
  "kernelspec": {
   "display_name": "Python 3 (ipykernel)",
   "language": "python",
   "name": "python3"
  },
  "language_info": {
   "codemirror_mode": {
    "name": "ipython",
    "version": 3
   },
   "file_extension": ".py",
   "mimetype": "text/x-python",
   "name": "python",
   "nbconvert_exporter": "python",
   "pygments_lexer": "ipython3",
   "version": "3.11.5"
  }
 },
 "nbformat": 4,
 "nbformat_minor": 5
}
